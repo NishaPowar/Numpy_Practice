{
 "cells": [
  {
   "cell_type": "code",
   "execution_count": 5,
   "id": "a2ae5b41-d735-4f78-b562-db905b4f0526",
   "metadata": {},
   "outputs": [
    {
     "name": "stdout",
     "output_type": "stream",
     "text": [
      "Hello\n",
      "[1 2 3 4]\n",
      "<class 'numpy.ndarray'>\n"
     ]
    }
   ],
   "source": [
    "#import numpy\n",
    "\n",
    "import numpy as np\n",
    "print(\"Hello\")\n",
    "arr=np.array([1,2,3,4])\n",
    "print(arr)  #in numpy there is no space in an array\n",
    "print(type(arr))\n"
   ]
  },
  {
   "cell_type": "code",
   "execution_count": 7,
   "id": "8848f402-c7e6-4502-a010-36f6f56459a7",
   "metadata": {},
   "outputs": [
    {
     "name": "stdout",
     "output_type": "stream",
     "text": [
      "52\n"
     ]
    }
   ],
   "source": [
    "#0D array\n",
    "\n",
    "arr=np.array(52)\n",
    "print(arr)"
   ]
  },
  {
   "cell_type": "code",
   "execution_count": 18,
   "id": "6c0cb8ae-1ce6-48d1-83f7-e70ecf8834a8",
   "metadata": {},
   "outputs": [
    {
     "name": "stdout",
     "output_type": "stream",
     "text": [
      "['1045' '20.56' '330' 'Nisha']\n",
      "<class 'numpy.ndarray'>\n",
      "Nisha\n"
     ]
    }
   ],
   "source": [
    "#1D array\n",
    "a1=np.array([1045,20.56,330,\"Nisha\"])\n",
    "print(a1)\n",
    "print(type(a1))\n",
    "print(a1[-1]) #Access negative index ,index start with -1 to end of array"
   ]
  },
  {
   "cell_type": "code",
   "execution_count": 14,
   "id": "6eb2bc64-c989-44c2-b070-89a535ebc609",
   "metadata": {},
   "outputs": [
    {
     "name": "stdout",
     "output_type": "stream",
     "text": [
      "[[10 20 30]\n",
      " [60 40 50]]\n",
      "<class 'numpy.ndarray'>\n",
      "50\n"
     ]
    }
   ],
   "source": [
    "#2D array\n",
    "\n",
    "frut_price=np.array([[10,20,30],[60,40,50]])\n",
    "print(frut_price)\n",
    "print(type(frut_price))\n",
    "print(frut_price[1,2]) #array_name[row,coloum]"
   ]
  },
  {
   "cell_type": "code",
   "execution_count": 13,
   "id": "6a6f2896-0d1b-4e1a-a3d9-c87c0ab77f50",
   "metadata": {},
   "outputs": [
    {
     "name": "stdout",
     "output_type": "stream",
     "text": [
      "[[[ 1  2  3]\n",
      "  [ 4  5  6]]\n",
      "\n",
      " [[ 7  8  9]\n",
      "  [10 20 30]]]\n",
      "Display 6 :  6\n",
      "int64\n"
     ]
    }
   ],
   "source": [
    "#Multidimentinal array\n",
    "\n",
    "arr1=np.array([[[1,2,3,],[4,5,6]],[[7,8,9],[10,20,30]]])\n",
    "print(arr1)\n",
    "print(\"Display 6 : \",arr1[0,1,2]) #[matrix,row,coloum]"
   ]
  },
  {
   "cell_type": "code",
   "execution_count": 10,
   "id": "54c354c0-0477-4a96-84f2-9b6321132dad",
   "metadata": {},
   "outputs": [
    {
     "name": "stdout",
     "output_type": "stream",
     "text": [
      "[10 20 30 40 50 60 70 80]\n",
      "[30 40 50 60]\n",
      "step 2 :  [20 40 60]\n",
      "[10 20 30 40 50 60 70]\n",
      "int64\n"
     ]
    }
   ],
   "source": [
    "#Numpy function\n",
    "\n",
    "#Slice\n",
    "    #index :  -8 -7 -6 -5 -4 -3 -2 -1\n",
    "arr=np.array([10,20,30,40,50,60,70,80])\n",
    "    #index :  0   1  2  3  4  5  6  7\n",
    "print(arr)\n",
    "print(arr[2:6])#syntax : variable_name[start:end:step] .By default step is 1\n",
    "print(\"step 2 : \",arr[1:7:2]) #start=1,end=7,step=2\n",
    "print(arr[-8:-1])\n",
    "print(arr.dtype)"
   ]
  },
  {
   "cell_type": "code",
   "execution_count": null,
   "id": "2972c0f7-e33c-48a0-85ba-a6c27ad15cf2",
   "metadata": {},
   "outputs": [],
   "source": [
    "#Shape and size of array \n",
    "arr=np.array([[[10,20,30],\n",
    "               [50,60,70]],\n",
    "              [[1,2,3],\n",
    "               [4,5,6]]])\n",
    "print(arr.shape) #Shape function are used to calculate no.matrix ,no.row and no.colounm in array\n",
    "print(arr.size) #It will calculate no.of elements present in array"
   ]
  },
  {
   "cell_type": "code",
   "execution_count": 29,
   "id": "fd74c586-91d4-44b7-bde3-c20d5b8bb48e",
   "metadata": {},
   "outputs": [
    {
     "name": "stdout",
     "output_type": "stream",
     "text": [
      "[[1 2 3]\n",
      " [4 5 6]\n",
      " [7 8 9]]\n"
     ]
    }
   ],
   "source": [
    "#reshaping array\n",
    "\n",
    "arr=np.array([1,2,3,4,5,6,7,8,9])\n",
    "newarray=arr.reshape(3,3)\n",
    "print(newarray)"
   ]
  },
  {
   "cell_type": "code",
   "execution_count": 33,
   "id": "aa7ecaaa-1867-49ee-bbef-a8025143de7b",
   "metadata": {},
   "outputs": [
    {
     "name": "stdout",
     "output_type": "stream",
     "text": [
      "150\n",
      "890\n",
      "650\n",
      "230\n",
      "450\n",
      "560\n",
      "890\n"
     ]
    }
   ],
   "source": [
    "#Iteracting array elements\n",
    "arr=np.array([15,89,65,23,45,56,89])\n",
    "for i in arr:\n",
    "    print(i*10)"
   ]
  },
  {
   "cell_type": "code",
   "execution_count": null,
   "id": "36e8b59a-7953-42ad-bda6-e6b7e5421292",
   "metadata": {},
   "outputs": [],
   "source": [
    "#Joining array\n",
    "\n",
    "a1=np.array([10,20,30,58,95])\n",
    "a2=np.array([10,50,60])\n",
    "a3=np.concatenate([a1,a2])\n",
    "print(a3)"
   ]
  },
  {
   "cell_type": "code",
   "execution_count": 18,
   "id": "239e196c-7319-4b77-92dc-3c592815734f",
   "metadata": {},
   "outputs": [
    {
     "name": "stdout",
     "output_type": "stream",
     "text": [
      "[array([10, 20, 30, 40]), array([50, 60, 70])]\n"
     ]
    }
   ],
   "source": [
    "#split array (np.array_split(array_name,number))\n",
    "\n",
    "arr=np.array([10,20,30,40,50,60,70])\n",
    "newarray=np.array_split(arr,2)\n",
    "print(newarray)"
   ]
  },
  {
   "cell_type": "code",
   "execution_count": 22,
   "id": "d29b3054-c2a8-45a0-9cd5-a7846553cb9a",
   "metadata": {},
   "outputs": [
    {
     "name": "stdout",
     "output_type": "stream",
     "text": [
      "(array([4]),)\n"
     ]
    }
   ],
   "source": [
    "#serching for array - where is a function that are used to check element present in which index.\n",
    "#If element are not present in an array then it return blank\n",
    "\n",
    "arr=np.array([1,45,48,26,79,2,3])\n",
    "x=np.where(arr==79) #where(array_name == element)\n",
    "print(x)"
   ]
  },
  {
   "cell_type": "code",
   "execution_count": 28,
   "id": "51068140-8d3b-4fcd-aed1-ce155b112b5d",
   "metadata": {},
   "outputs": [
    {
     "name": "stdout",
     "output_type": "stream",
     "text": [
      "Sorted array elements:  [23 45 56 86 89]\n"
     ]
    },
    {
     "name": "stdin",
     "output_type": "stream",
     "text": [
      "Enter size how many elements you are enter: 4\n",
      "Enter element:  789\n",
      "Enter element:  56\n",
      "Enter element:  28\n",
      "Enter element:  498\n"
     ]
    },
    {
     "name": "stdout",
     "output_type": "stream",
     "text": [
      "[ 28  56 498 789]\n"
     ]
    }
   ],
   "source": [
    "#Sorting an array\n",
    "\n",
    "arr=np.array([56,89,23,45,86])\n",
    "print(\"Sorted array elements: \",np.sort(arr))\n",
    "\n",
    "#taking elements from user and sort\n",
    "arr1=[]\n",
    "n=int(input(\"Enter size how many elements you are enter:\"))\n",
    "for i in range(0,n):\n",
    "    ele=int(input(\"Enter element: \"))\n",
    "    arr1.append(ele)\n",
    "\n",
    "print(np.sort(arr1))"
   ]
  },
  {
   "cell_type": "code",
   "execution_count": 37,
   "id": "c6ae8c58-69f6-46d6-9b2a-d908123b6a33",
   "metadata": {},
   "outputs": [
    {
     "name": "stdout",
     "output_type": "stream",
     "text": [
      "[ 10  26  78 458 598]\n",
      "[598 458  78  26  10]\n"
     ]
    }
   ],
   "source": [
    "#Sort array in desending order\n",
    "\n",
    "arr=np.array([598,78,26,458,10])\n",
    "arr=np.sort(arr)\n",
    "print(arr)\n",
    "#print(np.sort(arr[::-1]))\n",
    "print(arr[::-1])"
   ]
  },
  {
   "cell_type": "code",
   "execution_count": 42,
   "id": "0be30bf6-fd8a-4759-a284-76eaae6d9860",
   "metadata": {},
   "outputs": [
    {
     "name": "stdout",
     "output_type": "stream",
     "text": [
      "[59 89 92 97]\n"
     ]
    }
   ],
   "source": [
    "##Filtering array\n",
    "\n",
    "arr=np.array([59,26,89,36,92,97])\n",
    "x=[True,False,True,False,True,True]\n",
    "newarr=arr[x]\n",
    "print(newarr)"
   ]
  },
  {
   "cell_type": "code",
   "execution_count": 56,
   "id": "7904da23-ff32-4626-991b-86076af5ecb8",
   "metadata": {},
   "outputs": [
    {
     "name": "stdin",
     "output_type": "stream",
     "text": [
      "Enter size of array : 3\n",
      "Enter element:  45\n",
      "Enter element:  78\n",
      "Enter element:  96\n"
     ]
    },
    {
     "name": "stdout",
     "output_type": "stream",
     "text": [
      "[True, True, True]\n",
      "[45 78 96]\n"
     ]
    }
   ],
   "source": [
    "#Filtering elements in array\n",
    "\n",
    "arr=[]\n",
    "n=int(input(\"Enter size of array :\"))\n",
    "for i in range(0,n):\n",
    "    ele=int(input(\"Enter element: \"))\n",
    "    arr.append(ele)\n",
    "arr=np.array(arr)  #we need to convert list into array\n",
    "\n",
    "filter_array=[]\n",
    "for i in arr:\n",
    "    if i>40:\n",
    "          filter_array.append(True)\n",
    "    else:\n",
    "          filter_array.append(False)\n",
    "\n",
    "new_array=arr[filter_array]\n",
    "print(filter_array)\n",
    "print(new_array)\n"
   ]
  },
  {
   "cell_type": "code",
   "execution_count": 54,
   "id": "fc571453-d543-43f2-8060-92e5c130eedd",
   "metadata": {},
   "outputs": [
    {
     "name": "stdin",
     "output_type": "stream",
     "text": [
      "Enter size:  4\n",
      "Enter element: 55\n",
      "Enter element: 88\n",
      "Enter element: 95\n",
      "Enter element: 56\n"
     ]
    },
    {
     "name": "stdout",
     "output_type": "stream",
     "text": [
      "['55' '88' '95' '56']\n",
      "[55 88 95 56]\n",
      "['55' '88' '95' '56']\n"
     ]
    },
    {
     "data": {
      "text/plain": [
       "'\\narr=np.array([10,20,30])\\nprint(arr)\\nprint(arr.astype(str))\\n'"
      ]
     },
     "execution_count": 54,
     "metadata": {},
     "output_type": "execute_result"
    }
   ],
   "source": [
    "#converting data type \n",
    "\n",
    "arr=[]\n",
    "n=int(input(\"Enter size: \"))\n",
    "for i in range(0,n):\n",
    "    ele=input(\"Enter element:\")\n",
    "    arr.append(ele)\n",
    "arr=np.array(arr)\n",
    "print(arr.astype(int))\n",
    "\n",
    "'''\n",
    "arr=np.array([10,20,30])\n",
    "print(arr)\n",
    "print(arr.astype(str))\n",
    "'''"
   ]
  },
  {
   "cell_type": "code",
   "execution_count": 20,
   "id": "10cecdc3-7732-449e-afc1-df9dcd0e5114",
   "metadata": {},
   "outputs": [
    {
     "name": "stdout",
     "output_type": "stream",
     "text": [
      "[10 20 30 40 50 82 48]\n",
      "[10 20 30 40 50]\n",
      "[10 20 30 40  5 50]\n",
      "[10 20  7  8  9 30 40  5 50]\n",
      "[10 20  8  9 30 40  5 50]\n",
      "[10 20  7  8  9 30 40  5 50]\n"
     ]
    }
   ],
   "source": [
    "#Adding and removing elements \n",
    "\n",
    "arr=np.array([10,20,30,40,50])\n",
    "print(np.append(arr,[82,48])) #append is a method that are used to add element at end of list or array\n",
    "print(arr)\n",
    "arr=np.insert(arr,4,5)#insert method used to insert element at specific index\n",
    "print(arr)\n",
    "arr=np.insert(arr,2,[7,8,9])\n",
    "print(arr)\n",
    "print(np.delete(arr,[2]))\n",
    "print(arr)"
   ]
  },
  {
   "cell_type": "code",
   "execution_count": 9,
   "id": "58aa5761-adf5-487b-bf2a-993a92dc3a94",
   "metadata": {},
   "outputs": [
    {
     "name": "stdout",
     "output_type": "stream",
     "text": [
      "807\n"
     ]
    }
   ],
   "source": [
    "#aggregate function\n",
    "\n",
    "arr=np.array([[100,20,30],[455,70,807]])\n",
    "print(np.max(arr))\n",
    "print(np.sum(arr)) #it will return sum of all numbers\n",
    "print(np.min(arr)) #It will return minimum number among array\n",
    "print(np.max(arr)) #It will return maximum number among array\n",
    "print(np.cumsum(arr)) #It will return addition of two numbers into third number"
   ]
  },
  {
   "cell_type": "code",
   "execution_count": 34,
   "id": "a4b5b908-9a9c-4639-bbbd-13b36f34af11",
   "metadata": {},
   "outputs": [
    {
     "name": "stdout",
     "output_type": "stream",
     "text": [
      "[10, 20, 30, 50, 40, 50, 60, 70]\n",
      "Array :  [10 20 30 50 40 50 60 70]\n",
      "Mean :  41.25\n",
      "Median :  45.0\n",
      "Mode : 50\n"
     ]
    }
   ],
   "source": [
    "#Statistics\n",
    "\n",
    "import statistics as stat\n",
    "\n",
    "food_prices=[10,20,30,50,40,50,60,70]\n",
    "print(food_prices)\n",
    "a=np.array(food_prices)\n",
    "print(\"Array : \",a)\n",
    "print(\"Mean : \",np.mean(a)) #mean-it will return average of array\n",
    "print(\"Median : \",np.median(a)) #it will return medial value ,\n",
    "#if means 8 value present in array then it will take average of 4&5 index element\n",
    "print(\"Mode :\",stat.mode(a)) #it will return most frequently present value, numpy can't support mode"
   ]
  },
  {
   "cell_type": "code",
   "execution_count": 3,
   "id": "26daa853-1123-4444-8bd1-1c5099189a94",
   "metadata": {},
   "outputs": [
    {
     "name": "stdout",
     "output_type": "stream",
     "text": [
      "[4 8]\n"
     ]
    }
   ],
   "source": [
    "a=np.array([2,4,6,8])\n",
    "print(a[a%4==0])"
   ]
  },
  {
   "cell_type": "code",
   "execution_count": null,
   "id": "f00e3c1b-bb34-424f-857b-94697a3f8266",
   "metadata": {},
   "outputs": [],
   "source": []
  }
 ],
 "metadata": {
  "kernelspec": {
   "display_name": "Python 3 (ipykernel)",
   "language": "python",
   "name": "python3"
  },
  "language_info": {
   "codemirror_mode": {
    "name": "ipython",
    "version": 3
   },
   "file_extension": ".py",
   "mimetype": "text/x-python",
   "name": "python",
   "nbconvert_exporter": "python",
   "pygments_lexer": "ipython3",
   "version": "3.13.1"
  }
 },
 "nbformat": 4,
 "nbformat_minor": 5
}
